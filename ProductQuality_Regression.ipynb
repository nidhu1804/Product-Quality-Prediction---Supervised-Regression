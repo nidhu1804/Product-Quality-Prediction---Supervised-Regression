{
 "cells": [
  {
   "metadata": {},
   "cell_type": "markdown",
   "source": "SUPERVISED REGRESSION\n",
   "id": "e081f4991409e315"
  },
  {
   "metadata": {
    "ExecuteTime": {
     "end_time": "2024-12-17T21:19:06.659698Z",
     "start_time": "2024-12-17T21:19:06.659625Z"
    }
   },
   "cell_type": "code",
   "source": [
    "import pandas as pd\n",
    "from sklearn.model_selection import train_test_split\n",
    "from sklearn.metrics import mean_absolute_error\n",
    "from sklearn.tree import DecisionTreeRegressor\n",
    "from sklearn.linear_model import Ridge, Lasso\n",
    "from xgboost import XGBRegressor\n",
    "from sklearn.ensemble import RandomForestRegressor, GradientBoostingRegressor\n",
    "import zipfile\n",
    "from sklearn.linear_model import LinearRegression\n",
    "from sklearn.svm import SVR"
   ],
   "id": "initial_id",
   "outputs": [],
   "execution_count": null
  },
  {
   "metadata": {
    "ExecuteTime": {
     "end_time": "2024-12-17T21:19:07.589618Z",
     "start_time": "2024-12-17T21:19:07.357359Z"
    }
   },
   "cell_type": "code",
   "source": [
    "# Load data\n",
    "with zipfile.ZipFile('production-quality.zip', 'r') as zip_ref:\n",
    "    zip_ref.extractall('production-quality')"
   ],
   "id": "37b54d862bfb094d",
   "outputs": [],
   "execution_count": 90
  },
  {
   "metadata": {
    "ExecuteTime": {
     "end_time": "2024-12-17T21:19:09.892626Z",
     "start_time": "2024-12-17T21:19:07.907632Z"
    }
   },
   "cell_type": "code",
   "source": [
    "# Read data\n",
    "X_init = pd.read_csv(\"production-quality/data_X.csv\")\n",
    "submission = pd.read_csv(\"production-quality/sample_submission.csv\")\n",
    "Y_init = pd.read_csv(\"production-quality/data_Y.csv\")\n",
    "submission.tail(1)\n",
    "Y_init.info()"
   ],
   "id": "370eea8946d205b8",
   "outputs": [
    {
     "name": "stdout",
     "output_type": "stream",
     "text": [
      "<class 'pandas.core.frame.DataFrame'>\n",
      "RangeIndex: 29184 entries, 0 to 29183\n",
      "Data columns (total 2 columns):\n",
      " #   Column     Non-Null Count  Dtype \n",
      "---  ------     --------------  ----- \n",
      " 0   date_time  29184 non-null  object\n",
      " 1   quality    29184 non-null  int64 \n",
      "dtypes: int64(1), object(1)\n",
      "memory usage: 456.1+ KB\n"
     ]
    }
   ],
   "execution_count": 91
  },
  {
   "metadata": {},
   "cell_type": "markdown",
   "source": "",
   "id": "88dd1e20593ca5df"
  },
  {
   "metadata": {
    "ExecuteTime": {
     "end_time": "2024-12-17T21:19:10.190463Z",
     "start_time": "2024-12-17T21:19:09.894071Z"
    }
   },
   "cell_type": "code",
   "source": [
    "# Convert to date_time format\n",
    "X_init['date_time']=pd.to_datetime(X_init['date_time'])\n",
    "Y_init['date_time']=pd.to_datetime(Y_init['date_time'])\n",
    "submission['date_time']=pd.to_datetime(submission['date_time'])"
   ],
   "id": "d4299342d78d1a7e",
   "outputs": [],
   "execution_count": 92
  },
  {
   "metadata": {
    "ExecuteTime": {
     "end_time": "2024-12-17T21:19:15.400730Z",
     "start_time": "2024-12-17T21:19:10.191045Z"
    }
   },
   "cell_type": "code",
   "source": [
    "# extracting only the date and hour\n",
    "X_init['date_hour']=X_init['date_time'].dt.strftime('%Y-%m-%d %H')\n",
    "X_init=X_init.drop(columns=['date_time'])"
   ],
   "id": "a094952824dc71e7",
   "outputs": [
    {
     "name": "stdout",
     "output_type": "stream",
     "text": [
      "         T_data_1_1  T_data_1_2  T_data_1_3  T_data_2_1  T_data_2_2  \\\n",
      "2103831         271         253         265         353         359   \n",
      "2103832         271         254         265         353         359   \n",
      "2103833         271         256         265         353         359   \n",
      "2103834         271         258         265         353         359   \n",
      "2103835         271         259         265         353         359   \n",
      "2103836         271         261         265         353         359   \n",
      "2103837         271         261         265         353         359   \n",
      "2103838         271         261         265         353         359   \n",
      "2103839         271         261         265         353         359   \n",
      "2103840         271         261         265         353         359   \n",
      "\n",
      "         T_data_2_3  T_data_3_1  T_data_3_2  T_data_3_3  T_data_4_1  \\\n",
      "2103831         353         481         449         491         325   \n",
      "2103832         353         481         449         491         325   \n",
      "2103833         353         481         449         491         325   \n",
      "2103834         353         481         449         491         325   \n",
      "2103835         353         481         449         491         325   \n",
      "2103836         353         481         449         491         325   \n",
      "2103837         353         481         449         491         325   \n",
      "2103838         353         481         449         491         325   \n",
      "2103839         353         481         449         491         325   \n",
      "2103840         353         481         449         491         325   \n",
      "\n",
      "         T_data_4_2  T_data_4_3  T_data_5_1  T_data_5_2  T_data_5_3  H_data  \\\n",
      "2103831         328         328         277         276         280  160.90   \n",
      "2103832         328         328         277         276         280  161.83   \n",
      "2103833         328         328         277         276         280  161.58   \n",
      "2103834         328         328         277         276         280  160.41   \n",
      "2103835         328         328         277         276         280  158.90   \n",
      "2103836         328         328         277         276         280  157.20   \n",
      "2103837         328         328         277         276         280  160.40   \n",
      "2103838         328         328         277         276         280  160.14   \n",
      "2103839         328         328         277         276         280  162.96   \n",
      "2103840         328         328         277         276         280  159.73   \n",
      "\n",
      "         AH_data      date_hour  \n",
      "2103831     8.44  2018-12-31 23  \n",
      "2103832     8.44  2018-12-31 23  \n",
      "2103833     8.44  2018-12-31 23  \n",
      "2103834     8.44  2018-12-31 23  \n",
      "2103835     8.44  2018-12-31 23  \n",
      "2103836     8.44  2018-12-31 23  \n",
      "2103837     8.44  2018-12-31 23  \n",
      "2103838     8.44  2018-12-31 23  \n",
      "2103839     8.44  2018-12-31 23  \n",
      "2103840     7.35  2019-01-01 00  \n"
     ]
    }
   ],
   "execution_count": 93
  },
  {
   "metadata": {
    "ExecuteTime": {
     "end_time": "2024-12-17T21:19:21.849626Z",
     "start_time": "2024-12-17T21:19:15.402720Z"
    }
   },
   "cell_type": "code",
   "source": [
    "# Grouping the data by date_hour and AH_data and aggregating it into lists\n",
    "X_aggregated = X_init.groupby(['date_hour', 'AH_data']).agg(lambda x: list(x)).reset_index()\n",
    "print(X_aggregated.info())"
   ],
   "id": "d5db58de037d451e",
   "outputs": [
    {
     "name": "stdout",
     "output_type": "stream",
     "text": [
      "<class 'pandas.core.frame.DataFrame'>\n",
      "RangeIndex: 35065 entries, 0 to 35064\n",
      "Data columns (total 18 columns):\n",
      " #   Column      Non-Null Count  Dtype  \n",
      "---  ------      --------------  -----  \n",
      " 0   date_hour   35065 non-null  object \n",
      " 1   AH_data     35065 non-null  float64\n",
      " 2   T_data_1_1  35065 non-null  object \n",
      " 3   T_data_1_2  35065 non-null  object \n",
      " 4   T_data_1_3  35065 non-null  object \n",
      " 5   T_data_2_1  35065 non-null  object \n",
      " 6   T_data_2_2  35065 non-null  object \n",
      " 7   T_data_2_3  35065 non-null  object \n",
      " 8   T_data_3_1  35065 non-null  object \n",
      " 9   T_data_3_2  35065 non-null  object \n",
      " 10  T_data_3_3  35065 non-null  object \n",
      " 11  T_data_4_1  35065 non-null  object \n",
      " 12  T_data_4_2  35065 non-null  object \n",
      " 13  T_data_4_3  35065 non-null  object \n",
      " 14  T_data_5_1  35065 non-null  object \n",
      " 15  T_data_5_2  35065 non-null  object \n",
      " 16  T_data_5_3  35065 non-null  object \n",
      " 17  H_data      35065 non-null  object \n",
      "dtypes: float64(1), object(17)\n",
      "memory usage: 4.8+ MB\n",
      "None\n"
     ]
    }
   ],
   "execution_count": 94
  },
  {
   "metadata": {
    "ExecuteTime": {
     "end_time": "2024-12-17T21:19:43.939336Z",
     "start_time": "2024-12-17T21:19:21.850509Z"
    }
   },
   "cell_type": "code",
   "source": [
    "# Expands the columns that has lists into seperate columns\n",
    "for col in X_aggregated.columns:\n",
    "    if X_aggregated[col].apply(lambda x: isinstance(x, list)).any():\n",
    "        # Expanding only the rows with lists into separate columns\n",
    "        expanded_cols = X_aggregated[col].apply(lambda x: x if isinstance(x, list) else [x]).apply(pd.Series)\n",
    "        # Each new column is named with a suffix indicating position in the list\n",
    "        expanded_cols.columns = [f\"{col}_{i+1}\" for i in range(expanded_cols.shape[1])]\n",
    "        # Concatenate expanded columns with the original DataFrame\n",
    "        X_aggregated = pd.concat([X_aggregated.drop(columns=[col]), expanded_cols], axis=1)"
   ],
   "id": "11222f6b64e6ad4b",
   "outputs": [],
   "execution_count": 95
  },
  {
   "metadata": {
    "ExecuteTime": {
     "end_time": "2024-12-17T21:19:44.028421Z",
     "start_time": "2024-12-17T21:19:43.940455Z"
    }
   },
   "cell_type": "code",
   "source": [
    "# Subtract 1 hour ( Y has produced the quality result of the work done in previous hour, so we shift Y to match the values of that hour)\n",
    "Y_init['date_time'] = Y_init['date_time'] - pd.Timedelta(hours=1)\n",
    "# Converting into date hour format\n",
    "Y_init['date_hour'] = Y_init['date_time'].dt.strftime('%Y-%m-%d %H')\n",
    "Y_init = Y_init.drop(columns=['date_time'])\n",
    "submission['date_hour'] = submission['date_time'].dt.strftime('%Y-%m-%d %H')\n",
    "submission_file = submission.drop(columns=['date_time'])\n",
    "# Step 4: Check the resulting DataFrame\n",
    "Y_init.info()"
   ],
   "id": "c7a75fee6e9b8dbb",
   "outputs": [
    {
     "name": "stdout",
     "output_type": "stream",
     "text": [
      "<class 'pandas.core.frame.DataFrame'>\n",
      "RangeIndex: 29184 entries, 0 to 29183\n",
      "Data columns (total 2 columns):\n",
      " #   Column     Non-Null Count  Dtype \n",
      "---  ------     --------------  ----- \n",
      " 0   quality    29184 non-null  int64 \n",
      " 1   date_hour  29184 non-null  object\n",
      "dtypes: int64(1), object(1)\n",
      "memory usage: 456.1+ KB\n"
     ]
    }
   ],
   "execution_count": 96
  },
  {
   "metadata": {
    "ExecuteTime": {
     "end_time": "2024-12-17T21:19:44.312787Z",
     "start_time": "2024-12-17T21:19:44.029058Z"
    }
   },
   "cell_type": "code",
   "source": [
    "# Merge X and Y - Inner \n",
    "data = pd.merge(X_aggregated, Y_init, on='date_hour', how='inner')\n",
    "data['date_hour'] = pd.to_datetime(data['date_hour'], format='%Y-%m-%d %H')\n",
    "data['year'] = data['date_hour'].dt.year\n",
    "data['month'] = data['date_hour'].dt.month\n",
    "data['day'] = data['date_hour'].dt.day\n",
    "data['hour'] = data['date_hour'].dt.hour\n",
    "data = data.drop(columns=['date_hour'])\n",
    "\n",
    "# Merge X and submission file\n",
    "validation = pd.merge(X_aggregated, submission[[\"date_hour\",\"quality\"]], left_on=\"date_hour\", right_on=\"date_hour\", how='inner')\n",
    "validation['date_hour'] = pd.to_datetime(validation['date_hour'], format='%Y-%m-%d %H')\n",
    "validation['year'] = validation['date_hour'].dt.year\n",
    "validation['month'] = validation['date_hour'].dt.month\n",
    "validation['day'] = validation['date_hour'].dt.day\n",
    "validation['hour'] = validation['date_hour'].dt.hour\n",
    "validation = validation.drop(columns=['date_hour'])"
   ],
   "id": "9815fc7819066819",
   "outputs": [
    {
     "name": "stdout",
     "output_type": "stream",
     "text": [
      "<class 'pandas.core.frame.DataFrame'>\n",
      "RangeIndex: 29184 entries, 0 to 29183\n",
      "Columns: 966 entries, AH_data to hour\n",
      "dtypes: float64(961), int32(4), int64(1)\n",
      "memory usage: 214.6 MB\n",
      "AH_data         0\n",
      "T_data_1_1_1    0\n",
      "T_data_1_1_2    0\n",
      "T_data_1_1_3    0\n",
      "T_data_1_1_4    0\n",
      "               ..\n",
      "quality         0\n",
      "year            0\n",
      "month           0\n",
      "day             0\n",
      "hour            0\n",
      "Length: 966, dtype: int64\n"
     ]
    }
   ],
   "execution_count": 97
  },
  {
   "metadata": {},
   "cell_type": "markdown",
   "source": "PCA - To reduce the high dimensional dataset",
   "id": "2e8d929ffb83868f"
  },
  {
   "metadata": {
    "ExecuteTime": {
     "end_time": "2024-12-17T22:38:01.044875Z",
     "start_time": "2024-12-17T22:37:59.928277Z"
    }
   },
   "cell_type": "code",
   "source": [
    "from sklearn.decomposition import PCA\n",
    "from sklearn.preprocessing import StandardScaler\n",
    "\n",
    "X=data.drop(columns=['quality'])\n",
    "y=data['quality']\n",
    "scaler = StandardScaler()\n",
    "X_scaled = scaler.fit_transform(X)\n",
    "pca = PCA(n_components=0.95)\n",
    "X_pca = pca.fit_transform(X_scaled)"
   ],
   "id": "66f2d79c292614e9",
   "outputs": [],
   "execution_count": 129
  },
  {
   "metadata": {},
   "cell_type": "markdown",
   "source": "MODEL TRAINING",
   "id": "461cf28d95fed99"
  },
  {
   "metadata": {
    "ExecuteTime": {
     "end_time": "2024-12-17T22:38:01.320386Z",
     "start_time": "2024-12-17T22:38:01.055889Z"
    }
   },
   "cell_type": "code",
   "source": [
    "X=data.drop(columns=['quality'])\n",
    "y=data['quality']\n",
    "X_train, X_test, y_train, y_test = train_test_split(X_scaled, y, test_size=0.2, random_state=0)\n",
    "models = {\n",
    "    #'linear': LinearRegression(),\n",
    "    #'Ridge': Ridge(),\n",
    "    #'Lasso': Lasso(),\n",
    "    'RandomForest': RandomForestRegressor(n_estimators=200, random_state=42),\n",
    "    #'GradientBoosting': GradientBoostingRegressor(n_estimators=200, random_state=42),\n",
    "    #'Support Vector Machine (SVM)': SVR(),\n",
    "    #'Decision Tree': DecisionTreeRegressor(random_state=42),\n",
    "    'XGBoost': XGBRegressor(n_estimators=200, random_state=42)\n",
    "}"
   ],
   "id": "4c488890f5285b0d",
   "outputs": [],
   "execution_count": 130
  },
  {
   "metadata": {
    "ExecuteTime": {
     "end_time": "2024-12-17T23:04:31.352299Z",
     "start_time": "2024-12-17T22:38:01.597607Z"
    }
   },
   "cell_type": "code",
   "source": [
    "model_scores={}\n",
    "print(\"Model Performance Comparison (Mean Absolute Error):\")\n",
    "for model_name, model in models.items():\n",
    "    model.fit(X_train, y_train)\n",
    "    y_pred = model.predict(X_test)\n",
    "    score = mean_absolute_error(y_test, y_pred)\n",
    "    model_scores[model_name] = score\n",
    "    print(f\"{model_name} MSE : {score}\")\n",
    "    \n",
    "best_model_name = min(model_scores, key=model_scores.get)\n",
    "best_model = models[best_model_name]\n",
    "print(f\"\\nBest Model: {best_model_name}\\n \")"
   ],
   "id": "c48a62584d604b47",
   "outputs": [
    {
     "name": "stdout",
     "output_type": "stream",
     "text": [
      "Model Performance Comparison (Mean Absolute Error):\n",
      "RandomForest MSE : 7.6849777282850775\n",
      "XGBoost MSE : 7.83484349161749\n",
      "\n",
      "Best Model: RandomForest\n",
      " \n"
     ]
    }
   ],
   "execution_count": 131
  },
  {
   "metadata": {
    "ExecuteTime": {
     "end_time": "2024-12-17T23:12:42.311997Z",
     "start_time": "2024-12-17T23:12:41.643714Z"
    }
   },
   "cell_type": "code",
   "source": [
    "val = validation.drop(columns=['quality'])\n",
    "val_scaled = scaler.transform(val)\n",
    "val_pca = pca.transform(val_scaled)\n",
    "quality=best_model.predict(val_scaled)\n",
    "submission['quality']=quality"
   ],
   "id": "fd28fc7314c8df16",
   "outputs": [],
   "execution_count": 132
  },
  {
   "metadata": {
    "ExecuteTime": {
     "end_time": "2024-12-17T23:12:42.887105Z",
     "start_time": "2024-12-17T23:12:42.873111Z"
    }
   },
   "cell_type": "code",
   "source": [
    "submission = submission[[\"date_time\",\"quality\"]]\n",
    "submission"
   ],
   "id": "352822a0863276b",
   "outputs": [
    {
     "data": {
      "text/plain": [
       "               date_time  quality\n",
       "0    2018-05-04 00:05:00  440.875\n",
       "1    2018-05-04 01:05:00  435.670\n",
       "2    2018-05-04 02:05:00  407.890\n",
       "3    2018-05-04 03:05:00  408.670\n",
       "4    2018-05-04 04:05:00  413.140\n",
       "...                  ...      ...\n",
       "5803 2018-12-31 19:05:00  472.105\n",
       "5804 2018-12-31 20:05:00  453.770\n",
       "5805 2018-12-31 21:05:00  443.870\n",
       "5806 2018-12-31 22:05:00  439.100\n",
       "5807 2018-12-31 23:05:00  436.200\n",
       "\n",
       "[5808 rows x 2 columns]"
      ],
      "text/html": [
       "<div>\n",
       "<style scoped>\n",
       "    .dataframe tbody tr th:only-of-type {\n",
       "        vertical-align: middle;\n",
       "    }\n",
       "\n",
       "    .dataframe tbody tr th {\n",
       "        vertical-align: top;\n",
       "    }\n",
       "\n",
       "    .dataframe thead th {\n",
       "        text-align: right;\n",
       "    }\n",
       "</style>\n",
       "<table border=\"1\" class=\"dataframe\">\n",
       "  <thead>\n",
       "    <tr style=\"text-align: right;\">\n",
       "      <th></th>\n",
       "      <th>date_time</th>\n",
       "      <th>quality</th>\n",
       "    </tr>\n",
       "  </thead>\n",
       "  <tbody>\n",
       "    <tr>\n",
       "      <th>0</th>\n",
       "      <td>2018-05-04 00:05:00</td>\n",
       "      <td>440.875</td>\n",
       "    </tr>\n",
       "    <tr>\n",
       "      <th>1</th>\n",
       "      <td>2018-05-04 01:05:00</td>\n",
       "      <td>435.670</td>\n",
       "    </tr>\n",
       "    <tr>\n",
       "      <th>2</th>\n",
       "      <td>2018-05-04 02:05:00</td>\n",
       "      <td>407.890</td>\n",
       "    </tr>\n",
       "    <tr>\n",
       "      <th>3</th>\n",
       "      <td>2018-05-04 03:05:00</td>\n",
       "      <td>408.670</td>\n",
       "    </tr>\n",
       "    <tr>\n",
       "      <th>4</th>\n",
       "      <td>2018-05-04 04:05:00</td>\n",
       "      <td>413.140</td>\n",
       "    </tr>\n",
       "    <tr>\n",
       "      <th>...</th>\n",
       "      <td>...</td>\n",
       "      <td>...</td>\n",
       "    </tr>\n",
       "    <tr>\n",
       "      <th>5803</th>\n",
       "      <td>2018-12-31 19:05:00</td>\n",
       "      <td>472.105</td>\n",
       "    </tr>\n",
       "    <tr>\n",
       "      <th>5804</th>\n",
       "      <td>2018-12-31 20:05:00</td>\n",
       "      <td>453.770</td>\n",
       "    </tr>\n",
       "    <tr>\n",
       "      <th>5805</th>\n",
       "      <td>2018-12-31 21:05:00</td>\n",
       "      <td>443.870</td>\n",
       "    </tr>\n",
       "    <tr>\n",
       "      <th>5806</th>\n",
       "      <td>2018-12-31 22:05:00</td>\n",
       "      <td>439.100</td>\n",
       "    </tr>\n",
       "    <tr>\n",
       "      <th>5807</th>\n",
       "      <td>2018-12-31 23:05:00</td>\n",
       "      <td>436.200</td>\n",
       "    </tr>\n",
       "  </tbody>\n",
       "</table>\n",
       "<p>5808 rows × 2 columns</p>\n",
       "</div>"
      ]
     },
     "execution_count": 133,
     "metadata": {},
     "output_type": "execute_result"
    }
   ],
   "execution_count": 133
  },
  {
   "metadata": {},
   "cell_type": "code",
   "outputs": [],
   "execution_count": null,
   "source": "",
   "id": "802020273261eadb"
  }
 ],
 "metadata": {
  "kernelspec": {
   "display_name": "Python 3",
   "language": "python",
   "name": "python3"
  },
  "language_info": {
   "codemirror_mode": {
    "name": "ipython",
    "version": 2
   },
   "file_extension": ".py",
   "mimetype": "text/x-python",
   "name": "python",
   "nbconvert_exporter": "python",
   "pygments_lexer": "ipython2",
   "version": "2.7.6"
  }
 },
 "nbformat": 4,
 "nbformat_minor": 5
}
